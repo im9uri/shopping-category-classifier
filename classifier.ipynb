{
 "cells": [
  {
   "cell_type": "markdown",
   "metadata": {},
   "source": [
    "# Submission of [shopping-category-classifier](https://github.com/im9uri/shopping-category-classifier)"
   ]
  },
  {
   "cell_type": "markdown",
   "metadata": {},
   "source": [
    "## Read data"
   ]
  },
  {
   "cell_type": "code",
   "execution_count": 1,
   "metadata": {
    "collapsed": false,
    "scrolled": true
   },
   "outputs": [],
   "source": [
    "import pandas as pd"
   ]
  },
  {
   "cell_type": "code",
   "execution_count": 2,
   "metadata": {
    "collapsed": false
   },
   "outputs": [],
   "source": [
    "train_df = pd.read_pickle(\"../data/soma_goods_train.df\")"
   ]
  },
  {
   "cell_type": "code",
   "execution_count": 3,
   "metadata": {
    "collapsed": false
   },
   "outputs": [
    {
     "data": {
      "text/plain": [
       "(10000, 4)"
      ]
     },
     "execution_count": 3,
     "metadata": {},
     "output_type": "execute_result"
    }
   ],
   "source": [
    "train_df.shape"
   ]
  },
  {
   "cell_type": "code",
   "execution_count": 4,
   "metadata": {
    "collapsed": false,
    "scrolled": true
   },
   "outputs": [
    {
     "data": {
      "text/html": [
       "<div>\n",
       "<table border=\"1\" class=\"dataframe\">\n",
       "  <thead>\n",
       "    <tr style=\"text-align: right;\">\n",
       "      <th></th>\n",
       "      <th>cate1</th>\n",
       "      <th>cate2</th>\n",
       "      <th>cate3</th>\n",
       "      <th>name</th>\n",
       "    </tr>\n",
       "  </thead>\n",
       "  <tbody>\n",
       "    <tr>\n",
       "      <th>90985</th>\n",
       "      <td>디지털/가전</td>\n",
       "      <td>PC부품</td>\n",
       "      <td>CPU</td>\n",
       "      <td>인텔 인텔 코어i7-4세대 4770K (하스웰) (정품)</td>\n",
       "    </tr>\n",
       "    <tr>\n",
       "      <th>90986</th>\n",
       "      <td>디지털/가전</td>\n",
       "      <td>PC부품</td>\n",
       "      <td>CPU</td>\n",
       "      <td>애플 맥북에어 13형 MacBook Air 13.3/1.6/4/256FLASH MJ...</td>\n",
       "    </tr>\n",
       "  </tbody>\n",
       "</table>\n",
       "</div>"
      ],
      "text/plain": [
       "        cate1 cate2 cate3                                               name\n",
       "90985  디지털/가전  PC부품   CPU                    인텔 인텔 코어i7-4세대 4770K (하스웰) (정품)\n",
       "90986  디지털/가전  PC부품   CPU  애플 맥북에어 13형 MacBook Air 13.3/1.6/4/256FLASH MJ..."
      ]
     },
     "execution_count": 4,
     "metadata": {},
     "output_type": "execute_result"
    }
   ],
   "source": [
    "train_df.head(2)"
   ]
  },
  {
   "cell_type": "markdown",
   "metadata": {},
   "source": [
    " * cate1 는 대분류, cate2 는 중분류, cate3 는 소분류 \n",
    " * 총 10000개의 학습 데이터\n",
    " * 위 id 에 해당되는 이미지 데이터 다운받기 https://www.dropbox.com/s/q0qmx3qlc6gfumj/soma_train.tar.gz"
   ]
  },
  {
   "cell_type": "code",
   "execution_count": 5,
   "metadata": {
    "collapsed": true
   },
   "outputs": [],
   "source": [
    "test_df = pd.read_pickle(\"../data/test.df\")"
   ]
  },
  {
   "cell_type": "code",
   "execution_count": 6,
   "metadata": {
    "collapsed": false
   },
   "outputs": [
    {
     "data": {
      "text/plain": [
       "(4807, 2)"
      ]
     },
     "execution_count": 6,
     "metadata": {},
     "output_type": "execute_result"
    }
   ],
   "source": [
    "test_df.shape"
   ]
  },
  {
   "cell_type": "code",
   "execution_count": 7,
   "metadata": {
    "collapsed": false
   },
   "outputs": [
    {
     "data": {
      "text/html": [
       "<div>\n",
       "<table border=\"1\" class=\"dataframe\">\n",
       "  <thead>\n",
       "    <tr style=\"text-align: right;\">\n",
       "      <th></th>\n",
       "      <th>name</th>\n",
       "      <th>img</th>\n",
       "    </tr>\n",
       "  </thead>\n",
       "  <tbody>\n",
       "    <tr>\n",
       "      <th>4805</th>\n",
       "      <td>[KB국민카드 5%할인, 3/14]보닌 투웨이 카라배색 포인트 브레스트 포켓 면 자...</td>\n",
       "      <td>http://shopping.phinf.naver.net/main_7684310/7...</td>\n",
       "    </tr>\n",
       "    <tr>\n",
       "      <th>4806</th>\n",
       "      <td>[해외][구매대행][B00AZVMOH6] ADR445ARZ</td>\n",
       "      <td>http://shopping.phinf.naver.net/main_8266272/8...</td>\n",
       "    </tr>\n",
       "  </tbody>\n",
       "</table>\n",
       "</div>"
      ],
      "text/plain": [
       "                                                   name  \\\n",
       "4805  [KB국민카드 5%할인, 3/14]보닌 투웨이 카라배색 포인트 브레스트 포켓 면 자...   \n",
       "4806                   [해외][구매대행][B00AZVMOH6] ADR445ARZ   \n",
       "\n",
       "                                                    img  \n",
       "4805  http://shopping.phinf.naver.net/main_7684310/7...  \n",
       "4806  http://shopping.phinf.naver.net/main_8266272/8...  "
      ]
     },
     "execution_count": 7,
     "metadata": {},
     "output_type": "execute_result"
    }
   ],
   "source": [
    "test_df.tail(2)"
   ]
  },
  {
   "cell_type": "markdown",
   "metadata": {},
   "source": [
    "## Feature Engineering\n",
    " * 최대한 다양한 방식으로 name의 조합을 만들어서, dataframe의 column으로 넣어준다"
   ]
  },
  {
   "cell_type": "markdown",
   "metadata": {},
   "source": [
    "#### 1. 한글 형태소 [KoNLPy](http://konlpy.org/)로 형태소 분리"
   ]
  },
  {
   "cell_type": "code",
   "execution_count": 8,
   "metadata": {
    "collapsed": true
   },
   "outputs": [],
   "source": [
    "from konlpy.tag import Kkma\n",
    "from konlpy.utils import pprint"
   ]
  },
  {
   "cell_type": "code",
   "execution_count": 9,
   "metadata": {
    "collapsed": false
   },
   "outputs": [
    {
     "data": {
      "text/html": [
       "<div>\n",
       "<table border=\"1\" class=\"dataframe\">\n",
       "  <thead>\n",
       "    <tr style=\"text-align: right;\">\n",
       "      <th></th>\n",
       "      <th>cate1</th>\n",
       "      <th>cate2</th>\n",
       "      <th>cate3</th>\n",
       "      <th>name</th>\n",
       "      <th>name_korean_nouns</th>\n",
       "    </tr>\n",
       "  </thead>\n",
       "  <tbody>\n",
       "    <tr>\n",
       "      <th>90985</th>\n",
       "      <td>디지털/가전</td>\n",
       "      <td>PC부품</td>\n",
       "      <td>CPU</td>\n",
       "      <td>인텔 인텔 코어i7-4세대 4770K (하스웰) (정품)</td>\n",
       "      <td>인텔 인텔인텔코어 코어 세대 세대4770 4770 하스 정품</td>\n",
       "    </tr>\n",
       "    <tr>\n",
       "      <th>90986</th>\n",
       "      <td>디지털/가전</td>\n",
       "      <td>PC부품</td>\n",
       "      <td>CPU</td>\n",
       "      <td>애플 맥북에어 13형 MacBook Air 13.3/1.6/4/256FLASH MJ...</td>\n",
       "      <td>애플 애플맥북 맥 북 13 13형 형 13.3 1.6 4 256 2 기존 기존가 1...</td>\n",
       "    </tr>\n",
       "  </tbody>\n",
       "</table>\n",
       "</div>"
      ],
      "text/plain": [
       "        cate1 cate2 cate3                                               name  \\\n",
       "90985  디지털/가전  PC부품   CPU                    인텔 인텔 코어i7-4세대 4770K (하스웰) (정품)   \n",
       "90986  디지털/가전  PC부품   CPU  애플 맥북에어 13형 MacBook Air 13.3/1.6/4/256FLASH MJ...   \n",
       "\n",
       "                                       name_korean_nouns  \n",
       "90985                  인텔 인텔인텔코어 코어 세대 세대4770 4770 하스 정품  \n",
       "90986  애플 애플맥북 맥 북 13 13형 형 13.3 1.6 4 256 2 기존 기존가 1...  "
      ]
     },
     "execution_count": 9,
     "metadata": {},
     "output_type": "execute_result"
    }
   ],
   "source": [
    "def remove_big_words(s):\n",
    "    #'ㅁㅁㅁㅁ...'가 있으면 뺀다 (KoNLPy의 버그로 글자가 너무 길면 OOM으로 죽으므로, 일단은 가볍게 예외처리)\n",
    "    ns = ''\n",
    "    for i in s.split():\n",
    "        if(u'ㅁㅁㅁㅁ' not in i):\n",
    "            ns += i\n",
    "    \n",
    "    return ns\n",
    "\n",
    "def get_korean_nouns(s):\n",
    "    s = remove_big_words(s)\n",
    "    return ' '.join(kkma.nouns(s))\n",
    "\n",
    "kkma = Kkma()\n",
    "train_df['name_korean_nouns'] = train_df['name'].map(get_korean_nouns)\n",
    "test_df['name_korean_nouns'] = test_df['name'].map(get_korean_nouns)\n",
    "train_df.head(2)"
   ]
  },
  {
   "cell_type": "markdown",
   "metadata": {},
   "source": [
    "#### 2. 숫자랑 알파벳만 분리한다"
   ]
  },
  {
   "cell_type": "code",
   "execution_count": 10,
   "metadata": {
    "collapsed": false
   },
   "outputs": [
    {
     "data": {
      "text/html": [
       "<div>\n",
       "<table border=\"1\" class=\"dataframe\">\n",
       "  <thead>\n",
       "    <tr style=\"text-align: right;\">\n",
       "      <th></th>\n",
       "      <th>cate1</th>\n",
       "      <th>cate2</th>\n",
       "      <th>cate3</th>\n",
       "      <th>name</th>\n",
       "      <th>name_korean_nouns</th>\n",
       "      <th>name_alnum</th>\n",
       "    </tr>\n",
       "  </thead>\n",
       "  <tbody>\n",
       "    <tr>\n",
       "      <th>90985</th>\n",
       "      <td>디지털/가전</td>\n",
       "      <td>PC부품</td>\n",
       "      <td>CPU</td>\n",
       "      <td>인텔 인텔 코어i7-4세대 4770K (하스웰) (정품)</td>\n",
       "      <td>인텔 인텔인텔코어 코어 세대 세대4770 4770 하스 정품</td>\n",
       "      <td>인텔 인텔 코어i7 4세대 4770K  하스웰   정품</td>\n",
       "    </tr>\n",
       "    <tr>\n",
       "      <th>90986</th>\n",
       "      <td>디지털/가전</td>\n",
       "      <td>PC부품</td>\n",
       "      <td>CPU</td>\n",
       "      <td>애플 맥북에어 13형 MacBook Air 13.3/1.6/4/256FLASH MJ...</td>\n",
       "      <td>애플 애플맥북 맥 북 13 13형 형 13.3 1.6 4 256 2 기존 기존가 1...</td>\n",
       "      <td>애플 맥북에어 13형 MacBook Air 13 3 1 6 4 256FLASH MJ...</td>\n",
       "    </tr>\n",
       "  </tbody>\n",
       "</table>\n",
       "</div>"
      ],
      "text/plain": [
       "        cate1 cate2 cate3                                               name  \\\n",
       "90985  디지털/가전  PC부품   CPU                    인텔 인텔 코어i7-4세대 4770K (하스웰) (정품)   \n",
       "90986  디지털/가전  PC부품   CPU  애플 맥북에어 13형 MacBook Air 13.3/1.6/4/256FLASH MJ...   \n",
       "\n",
       "                                       name_korean_nouns  \\\n",
       "90985                  인텔 인텔인텔코어 코어 세대 세대4770 4770 하스 정품   \n",
       "90986  애플 애플맥북 맥 북 13 13형 형 13.3 1.6 4 256 2 기존 기존가 1...   \n",
       "\n",
       "                                              name_alnum  \n",
       "90985                    인텔 인텔 코어i7 4세대 4770K  하스웰   정품   \n",
       "90986  애플 맥북에어 13형 MacBook Air 13 3 1 6 4 256FLASH MJ...  "
      ]
     },
     "execution_count": 10,
     "metadata": {},
     "output_type": "execute_result"
    }
   ],
   "source": [
    "def get_is_alnum(s):\n",
    "    alnum = ''\n",
    "    for c in str(s):\n",
    "        if c.isalnum():\n",
    "            alnum += c\n",
    "        else:\n",
    "            alnum += ' '\n",
    "    return alnum\n",
    "            \n",
    "train_df['name_alnum'] = train_df['name'].map(get_is_alnum)\n",
    "test_df['name_alnum'] = test_df['name'].map(get_is_alnum)\n",
    "train_df.head(2)"
   ]
  },
  {
   "cell_type": "markdown",
   "metadata": {},
   "source": [
    "#### 3. 원래 name 데이터와 위에서 만든 데이터를 더해서 하나의 column으로 만든다"
   ]
  },
  {
   "cell_type": "code",
   "execution_count": 11,
   "metadata": {
    "collapsed": false
   },
   "outputs": [
    {
     "data": {
      "text/html": [
       "<div>\n",
       "<table border=\"1\" class=\"dataframe\">\n",
       "  <thead>\n",
       "    <tr style=\"text-align: right;\">\n",
       "      <th></th>\n",
       "      <th>cate1</th>\n",
       "      <th>cate2</th>\n",
       "      <th>cate3</th>\n",
       "      <th>name</th>\n",
       "      <th>name_korean_nouns</th>\n",
       "      <th>name_alnum</th>\n",
       "      <th>name_total</th>\n",
       "    </tr>\n",
       "  </thead>\n",
       "  <tbody>\n",
       "    <tr>\n",
       "      <th>90985</th>\n",
       "      <td>디지털/가전</td>\n",
       "      <td>PC부품</td>\n",
       "      <td>CPU</td>\n",
       "      <td>인텔 인텔 코어i7-4세대 4770K (하스웰) (정품)</td>\n",
       "      <td>인텔 인텔인텔코어 코어 세대 세대4770 4770 하스 정품</td>\n",
       "      <td>인텔 인텔 코어i7 4세대 4770K  하스웰   정품</td>\n",
       "      <td>인텔 인텔 코어i7-4세대 4770K (하스웰) (정품) 인텔 인텔인텔코어 코어 세...</td>\n",
       "    </tr>\n",
       "    <tr>\n",
       "      <th>90986</th>\n",
       "      <td>디지털/가전</td>\n",
       "      <td>PC부품</td>\n",
       "      <td>CPU</td>\n",
       "      <td>애플 맥북에어 13형 MacBook Air 13.3/1.6/4/256FLASH MJ...</td>\n",
       "      <td>애플 애플맥북 맥 북 13 13형 형 13.3 1.6 4 256 2 기존 기존가 1...</td>\n",
       "      <td>애플 맥북에어 13형 MacBook Air 13 3 1 6 4 256FLASH MJ...</td>\n",
       "      <td>애플 맥북에어 13형 MacBook Air 13.3/1.6/4/256FLASH MJ...</td>\n",
       "    </tr>\n",
       "  </tbody>\n",
       "</table>\n",
       "</div>"
      ],
      "text/plain": [
       "        cate1 cate2 cate3                                               name  \\\n",
       "90985  디지털/가전  PC부품   CPU                    인텔 인텔 코어i7-4세대 4770K (하스웰) (정품)   \n",
       "90986  디지털/가전  PC부품   CPU  애플 맥북에어 13형 MacBook Air 13.3/1.6/4/256FLASH MJ...   \n",
       "\n",
       "                                       name_korean_nouns  \\\n",
       "90985                  인텔 인텔인텔코어 코어 세대 세대4770 4770 하스 정품   \n",
       "90986  애플 애플맥북 맥 북 13 13형 형 13.3 1.6 4 256 2 기존 기존가 1...   \n",
       "\n",
       "                                              name_alnum  \\\n",
       "90985                    인텔 인텔 코어i7 4세대 4770K  하스웰   정품    \n",
       "90986  애플 맥북에어 13형 MacBook Air 13 3 1 6 4 256FLASH MJ...   \n",
       "\n",
       "                                              name_total  \n",
       "90985  인텔 인텔 코어i7-4세대 4770K (하스웰) (정품) 인텔 인텔인텔코어 코어 세...  \n",
       "90986  애플 맥북에어 13형 MacBook Air 13.3/1.6/4/256FLASH MJ...  "
      ]
     },
     "execution_count": 11,
     "metadata": {},
     "output_type": "execute_result"
    }
   ],
   "source": [
    "train_df['name_total'] = train_df['name'] + ' ' + train_df['name_korean_nouns'] + ' ' + train_df['name_alnum']\n",
    "test_df['name_total'] = test_df['name'] + ' ' + test_df['name_korean_nouns'] + ' ' + test_df['name_alnum']\n",
    "train_df.head(2)"
   ]
  },
  {
   "cell_type": "markdown",
   "metadata": {},
   "source": [
    "#### 4. [Gensim의 word2vec](http://rare-technologies.com/word2vec-tutorial/)을 사용해서 단어들을 neural network의 output으로 뽑아낸다"
   ]
  },
  {
   "cell_type": "code",
   "execution_count": 12,
   "metadata": {
    "collapsed": false
   },
   "outputs": [
    {
     "name": "stderr",
     "output_type": "stream",
     "text": [
      "Using gpu device 0: GRID K520 (CNMeM is enabled with initial size: 95.0% of memory, cuDNN 4007)\n"
     ]
    }
   ],
   "source": [
    "#만든 단어의 조합을 한 list에 넣는다\n",
    "sentences = []\n",
    "for s in train_df['name_total'].tolist():\n",
    "    s = s.lower()\n",
    "    sentences.append(s.split())\n",
    "    \n",
    "for s in test_df['name_total'].tolist():\n",
    "    s = s.lower()\n",
    "    sentences.append(s.split()) \n",
    "\n",
    "    \n",
    "#Word2Vec model을 만든다\n",
    "from gensim.models import Word2Vec\n",
    "\n",
    "#parameter는 적당히 대입한 값으로, tuning 여지가 있다\n",
    "size = 1000\n",
    "min_count = 1\n",
    "model = Word2Vec(sentences, size=size, min_count=1)"
   ]
  },
  {
   "cell_type": "markdown",
   "metadata": {},
   "source": [
    "#### 4.1 name_total 안에 있는 각각 단어의 output을 더해서 matrix에 넣는다"
   ]
  },
  {
   "cell_type": "code",
   "execution_count": 13,
   "metadata": {
    "collapsed": false
   },
   "outputs": [
    {
     "data": {
      "text/plain": [
       "(10000, 1000)"
      ]
     },
     "execution_count": 13,
     "metadata": {},
     "output_type": "execute_result"
    }
   ],
   "source": [
    "import numpy as np\n",
    "\n",
    "word_matrix = np.zeros(shape=(train_df.shape[0], size))\n",
    "index = 0\n",
    "\n",
    "for s in train_df['name_total'].tolist():\n",
    "    s = s.lower()\n",
    "    s_matrix = np.zeros(shape=(size,))\n",
    "    for w in s.split():\n",
    "        try:\n",
    "            s_matrix += model[w]\n",
    "            break\n",
    "        except KeyError:\n",
    "            print('KeyError ' + w)\n",
    "            \n",
    "    word_matrix[index] = s_matrix\n",
    "    index += 1\n",
    "    \n",
    "word_matrix.shape"
   ]
  },
  {
   "cell_type": "code",
   "execution_count": 14,
   "metadata": {
    "collapsed": false
   },
   "outputs": [
    {
     "data": {
      "text/plain": [
       "(4807, 1000)"
      ]
     },
     "execution_count": 14,
     "metadata": {},
     "output_type": "execute_result"
    }
   ],
   "source": [
    "word_matrix_test = np.zeros(shape=(test_df.shape[0], size))\n",
    "index = 0\n",
    "\n",
    "for s in test_df['name_total'].tolist():\n",
    "    s = s.lower()\n",
    "    s_matrix = np.zeros(shape=(size,))\n",
    "    for w in s.split():\n",
    "        try:\n",
    "            s_matrix += model[w]\n",
    "            break\n",
    "        except KeyError:\n",
    "            print('KeyError ' + w)\n",
    "            \n",
    "    word_matrix_test[index] = s_matrix\n",
    "    index += 1\n",
    "    \n",
    "word_matrix_test.shape"
   ]
  },
  {
   "cell_type": "markdown",
   "metadata": {},
   "source": [
    "#### 4.2 다차원의 output을 PCA를 이용해서 차원을 낮춰준다"
   ]
  },
  {
   "cell_type": "code",
   "execution_count": 15,
   "metadata": {
    "collapsed": false
   },
   "outputs": [
    {
     "data": {
      "text/plain": [
       "array([  7.96000665e-01,   9.19205654e-02,   7.54787699e-02,\n",
       "         2.89174903e-02,   2.95295646e-03,   2.04293812e-03,\n",
       "         1.48882841e-03,   4.93013252e-04,   2.55209730e-04,\n",
       "         1.65895562e-04,   8.38345539e-05,   5.28034156e-05,\n",
       "         3.70058803e-05,   1.81710996e-05,   1.55806145e-05,\n",
       "         1.30840872e-05,   9.12651305e-06,   6.52095405e-06,\n",
       "         6.00542498e-06,   4.29449228e-06])"
      ]
     },
     "execution_count": 15,
     "metadata": {},
     "output_type": "execute_result"
    }
   ],
   "source": [
    "from sklearn.decomposition import PCA\n",
    "\n",
    "#parameter는 적당히 대입한 값으로, tuning 여지가 있다\n",
    "size = 20\n",
    "pca = PCA(n_components=size, whiten=True)\n",
    "pca.fit(word_matrix)\n",
    "\n",
    "pca.explained_variance_ratio_"
   ]
  },
  {
   "cell_type": "code",
   "execution_count": 16,
   "metadata": {
    "collapsed": false
   },
   "outputs": [
    {
     "name": "stdout",
     "output_type": "stream",
     "text": [
      "(10000, 20) (4807, 20)\n"
     ]
    }
   ],
   "source": [
    "word_matrix = pca.transform(word_matrix)\n",
    "word_matrix_test = pca.transform(word_matrix_test)\n",
    "\n",
    "print(word_matrix.shape, word_matrix_test.shape)"
   ]
  },
  {
   "cell_type": "markdown",
   "metadata": {
    "collapsed": true
   },
   "source": [
    "#### 4.3 PCA로 transform한 data를 column으로 넣어준다"
   ]
  },
  {
   "cell_type": "code",
   "execution_count": 17,
   "metadata": {
    "collapsed": false
   },
   "outputs": [
    {
     "data": {
      "text/html": [
       "<div>\n",
       "<table border=\"1\" class=\"dataframe\">\n",
       "  <thead>\n",
       "    <tr style=\"text-align: right;\">\n",
       "      <th></th>\n",
       "      <th>cate1</th>\n",
       "      <th>cate2</th>\n",
       "      <th>cate3</th>\n",
       "      <th>name</th>\n",
       "      <th>name_korean_nouns</th>\n",
       "      <th>name_alnum</th>\n",
       "      <th>name_total</th>\n",
       "      <th>word2vec_0</th>\n",
       "      <th>word2vec_1</th>\n",
       "      <th>word2vec_2</th>\n",
       "      <th>...</th>\n",
       "      <th>word2vec_10</th>\n",
       "      <th>word2vec_11</th>\n",
       "      <th>word2vec_12</th>\n",
       "      <th>word2vec_13</th>\n",
       "      <th>word2vec_14</th>\n",
       "      <th>word2vec_15</th>\n",
       "      <th>word2vec_16</th>\n",
       "      <th>word2vec_17</th>\n",
       "      <th>word2vec_18</th>\n",
       "      <th>word2vec_19</th>\n",
       "    </tr>\n",
       "  </thead>\n",
       "  <tbody>\n",
       "    <tr>\n",
       "      <th>90985</th>\n",
       "      <td>디지털/가전</td>\n",
       "      <td>PC부품</td>\n",
       "      <td>CPU</td>\n",
       "      <td>인텔 인텔 코어i7-4세대 4770K (하스웰) (정품)</td>\n",
       "      <td>인텔 인텔인텔코어 코어 세대 세대4770 4770 하스 정품</td>\n",
       "      <td>인텔 인텔 코어i7 4세대 4770K  하스웰   정품</td>\n",
       "      <td>인텔 인텔 코어i7-4세대 4770K (하스웰) (정품) 인텔 인텔인텔코어 코어 세...</td>\n",
       "      <td>-2.525343</td>\n",
       "      <td>-1.517057</td>\n",
       "      <td>0.295140</td>\n",
       "      <td>...</td>\n",
       "      <td>-0.090706</td>\n",
       "      <td>-0.798445</td>\n",
       "      <td>-5.522489</td>\n",
       "      <td>1.809360</td>\n",
       "      <td>5.120087</td>\n",
       "      <td>-5.523544</td>\n",
       "      <td>6.886970</td>\n",
       "      <td>-0.942835</td>\n",
       "      <td>-9.778997</td>\n",
       "      <td>7.316477</td>\n",
       "    </tr>\n",
       "    <tr>\n",
       "      <th>90986</th>\n",
       "      <td>디지털/가전</td>\n",
       "      <td>PC부품</td>\n",
       "      <td>CPU</td>\n",
       "      <td>애플 맥북에어 13형 MacBook Air 13.3/1.6/4/256FLASH MJ...</td>\n",
       "      <td>애플 애플맥북 맥 북 13 13형 형 13.3 1.6 4 256 2 기존 기존가 1...</td>\n",
       "      <td>애플 맥북에어 13형 MacBook Air 13 3 1 6 4 256FLASH MJ...</td>\n",
       "      <td>애플 맥북에어 13형 MacBook Air 13.3/1.6/4/256FLASH MJ...</td>\n",
       "      <td>-1.079297</td>\n",
       "      <td>0.803934</td>\n",
       "      <td>-0.064331</td>\n",
       "      <td>...</td>\n",
       "      <td>-1.787163</td>\n",
       "      <td>-3.198117</td>\n",
       "      <td>-0.509287</td>\n",
       "      <td>-1.695501</td>\n",
       "      <td>-1.124572</td>\n",
       "      <td>0.368247</td>\n",
       "      <td>2.671157</td>\n",
       "      <td>1.951700</td>\n",
       "      <td>-0.096267</td>\n",
       "      <td>-0.111237</td>\n",
       "    </tr>\n",
       "  </tbody>\n",
       "</table>\n",
       "<p>2 rows × 27 columns</p>\n",
       "</div>"
      ],
      "text/plain": [
       "        cate1 cate2 cate3                                               name  \\\n",
       "90985  디지털/가전  PC부품   CPU                    인텔 인텔 코어i7-4세대 4770K (하스웰) (정품)   \n",
       "90986  디지털/가전  PC부품   CPU  애플 맥북에어 13형 MacBook Air 13.3/1.6/4/256FLASH MJ...   \n",
       "\n",
       "                                       name_korean_nouns  \\\n",
       "90985                  인텔 인텔인텔코어 코어 세대 세대4770 4770 하스 정품   \n",
       "90986  애플 애플맥북 맥 북 13 13형 형 13.3 1.6 4 256 2 기존 기존가 1...   \n",
       "\n",
       "                                              name_alnum  \\\n",
       "90985                    인텔 인텔 코어i7 4세대 4770K  하스웰   정품    \n",
       "90986  애플 맥북에어 13형 MacBook Air 13 3 1 6 4 256FLASH MJ...   \n",
       "\n",
       "                                              name_total  word2vec_0  \\\n",
       "90985  인텔 인텔 코어i7-4세대 4770K (하스웰) (정품) 인텔 인텔인텔코어 코어 세...   -2.525343   \n",
       "90986  애플 맥북에어 13형 MacBook Air 13.3/1.6/4/256FLASH MJ...   -1.079297   \n",
       "\n",
       "       word2vec_1  word2vec_2     ...       word2vec_10  word2vec_11  \\\n",
       "90985   -1.517057    0.295140     ...         -0.090706    -0.798445   \n",
       "90986    0.803934   -0.064331     ...         -1.787163    -3.198117   \n",
       "\n",
       "       word2vec_12  word2vec_13  word2vec_14  word2vec_15  word2vec_16  \\\n",
       "90985    -5.522489     1.809360     5.120087    -5.523544     6.886970   \n",
       "90986    -0.509287    -1.695501    -1.124572     0.368247     2.671157   \n",
       "\n",
       "       word2vec_17  word2vec_18  word2vec_19  \n",
       "90985    -0.942835    -9.778997     7.316477  \n",
       "90986     1.951700    -0.096267    -0.111237  \n",
       "\n",
       "[2 rows x 27 columns]"
      ]
     },
     "execution_count": 17,
     "metadata": {},
     "output_type": "execute_result"
    }
   ],
   "source": [
    "columns = ['word2vec_' + str(i) for i in range(0,size)]\n",
    "train_word_df = pd.DataFrame(word_matrix, columns=columns, index=train_df.index)\n",
    "train_df = pd.concat([train_df, train_word_df], axis=1)\n",
    "\n",
    "test_word_df = pd.DataFrame(word_matrix_test, columns=columns, index=test_df.index)\n",
    "test_df = pd.concat([test_df, test_word_df], axis=1)\n",
    "\n",
    "train_df.head(2)"
   ]
  },
  {
   "cell_type": "markdown",
   "metadata": {
    "collapsed": true
   },
   "source": [
    "#### 5. [VGG19 model](https://gist.github.com/baraldilorenzo/8d096f48a1be4a2d660d)을 이용해서 이미지를 다른 output으로 변환시킨다"
   ]
  },
  {
   "cell_type": "markdown",
   "metadata": {},
   "source": [
    "#### 5.1 Define Model"
   ]
  },
  {
   "cell_type": "code",
   "execution_count": 18,
   "metadata": {
    "collapsed": false
   },
   "outputs": [
    {
     "name": "stderr",
     "output_type": "stream",
     "text": [
      "Using Theano backend.\n"
     ]
    }
   ],
   "source": [
    "from keras.models import Sequential\n",
    "from keras.layers.core import Flatten, Dense, Dropout\n",
    "from keras.layers.convolutional import Convolution2D, MaxPooling2D, ZeroPadding2D\n",
    "from keras.optimizers import SGD\n",
    "import numpy as np\n",
    "import cv2\n",
    "\n",
    "def VGG_19(weights_path=None):\n",
    "    model = Sequential()\n",
    "    model.add(ZeroPadding2D((1,1),input_shape=(3,224,224)))\n",
    "    model.add(Convolution2D(64, 3, 3, activation='relu'))\n",
    "    model.add(ZeroPadding2D((1,1)))\n",
    "    model.add(Convolution2D(64, 3, 3, activation='relu'))\n",
    "    model.add(MaxPooling2D((2,2), strides=(2,2)))\n",
    "\n",
    "    model.add(ZeroPadding2D((1,1)))\n",
    "    model.add(Convolution2D(128, 3, 3, activation='relu'))\n",
    "    model.add(ZeroPadding2D((1,1)))\n",
    "    model.add(Convolution2D(128, 3, 3, activation='relu'))\n",
    "    model.add(MaxPooling2D((2,2), strides=(2,2)))\n",
    "\n",
    "    model.add(ZeroPadding2D((1,1)))\n",
    "    model.add(Convolution2D(256, 3, 3, activation='relu'))\n",
    "    model.add(ZeroPadding2D((1,1)))\n",
    "    model.add(Convolution2D(256, 3, 3, activation='relu'))\n",
    "    model.add(ZeroPadding2D((1,1)))\n",
    "    model.add(Convolution2D(256, 3, 3, activation='relu'))\n",
    "    model.add(ZeroPadding2D((1,1)))\n",
    "    model.add(Convolution2D(256, 3, 3, activation='relu'))\n",
    "    model.add(MaxPooling2D((2,2), strides=(2,2)))\n",
    "\n",
    "    model.add(ZeroPadding2D((1,1)))\n",
    "    model.add(Convolution2D(512, 3, 3, activation='relu'))\n",
    "    model.add(ZeroPadding2D((1,1)))\n",
    "    model.add(Convolution2D(512, 3, 3, activation='relu'))\n",
    "    model.add(ZeroPadding2D((1,1)))\n",
    "    model.add(Convolution2D(512, 3, 3, activation='relu'))\n",
    "    model.add(ZeroPadding2D((1,1)))\n",
    "    model.add(Convolution2D(512, 3, 3, activation='relu'))\n",
    "    model.add(MaxPooling2D((2,2), strides=(2,2)))\n",
    "\n",
    "    model.add(ZeroPadding2D((1,1)))\n",
    "    model.add(Convolution2D(512, 3, 3, activation='relu'))\n",
    "    model.add(ZeroPadding2D((1,1)))\n",
    "    model.add(Convolution2D(512, 3, 3, activation='relu'))\n",
    "    model.add(ZeroPadding2D((1,1)))\n",
    "    model.add(Convolution2D(512, 3, 3, activation='relu'))\n",
    "    model.add(ZeroPadding2D((1,1)))\n",
    "    model.add(Convolution2D(512, 3, 3, activation='relu'))\n",
    "    model.add(MaxPooling2D((2,2), strides=(2,2)))\n",
    "\n",
    "    model.add(Flatten())\n",
    "    model.add(Dense(4096, activation='relu'))\n",
    "    model.add(Dropout(0.5))\n",
    "    model.add(Dense(4096, activation='relu'))\n",
    "\n",
    "    model.add(Dropout(0.5))\n",
    "    model.add(Dense(1000, activation='softmax'))\n",
    "\n",
    "    if weights_path:\n",
    "        model.load_weights(weights_path)\n",
    "\n",
    "    return model"
   ]
  },
  {
   "cell_type": "code",
   "execution_count": 19,
   "metadata": {
    "collapsed": false
   },
   "outputs": [],
   "source": [
    "model = VGG_19('../model/vgg19_weights.h5')"
   ]
  },
  {
   "cell_type": "code",
   "execution_count": 20,
   "metadata": {
    "collapsed": true
   },
   "outputs": [],
   "source": [
    "#train된 model은 1000개의 output을 뱉지만, 이 경우에는 그럴 필요가 없으므로 마지막 2개의 layer를 뺀다\n",
    "model.layers.pop()\n",
    "model.layers.pop()\n",
    "\n",
    "#현재 keras 버전(1.0.8)에서는 pop()으로는 layer가 없어지지 않으므로, 밑에 코드를 넣는다\n",
    "#https://github.com/fchollet/keras/issues/2371#issuecomment-211120172\n",
    "model.outputs = [model.layers[-1].output]\n",
    "model.layers[-1].outbound_nodes = []"
   ]
  },
  {
   "cell_type": "markdown",
   "metadata": {},
   "source": [
    "#### 5.2 이미지의 output을 저장하고, 이미지가 없는 경우 평균값을 넣어준다"
   ]
  },
  {
   "cell_type": "code",
   "execution_count": 21,
   "metadata": {
    "collapsed": false
   },
   "outputs": [
    {
     "name": "stderr",
     "output_type": "stream",
     "text": [
      "/usr/local/lib/python3.4/dist-packages/keras/models.py:760: UserWarning: Network returning invalid probability values. The last layer might not normalize predictions into probabilities (like softmax or sigmoid would).\n",
      "  warnings.warn('Network returning invalid probability values. '\n"
     ]
    },
    {
     "name": "stdout",
     "output_type": "stream",
     "text": [
      "67 data with no images\n",
      "(10000, 4096)\n"
     ]
    }
   ],
   "source": [
    "start = 0\n",
    "no_img_list = []\n",
    "fc_matrix = np.zeros(shape=(10000, 4096))\n",
    "\n",
    "for i in train_df.index.values:\n",
    "    f = '../data/soma_train/' + str(i) + '.jpg'\n",
    "    f = cv2.imread(f)\n",
    "    if(f is None):\n",
    "        no_img_list.append(start)\n",
    "        start += 1\n",
    "        continue\n",
    "    \n",
    "    #resize image to fit input\n",
    "    im = cv2.resize(f, (224, 224)).astype(np.float32)\n",
    "    im[:,:,0] -= 103.939\n",
    "    im[:,:,1] -= 116.779\n",
    "    im[:,:,2] -= 123.68\n",
    "    im = im.transpose((2,0,1))\n",
    "    im = np.expand_dims(im, axis=0)\n",
    "    \n",
    "    #add to array\n",
    "    fc_matrix[start] = model.predict_proba(im, verbose=False)\n",
    "    \n",
    "    start += 1\n",
    "    \n",
    "print(str(len(no_img_list)) + \" data with no images\")\n",
    "\n",
    "# no_img_list인 index에 평균값을 넣어준다\n",
    "avg = np.average(fc_matrix, axis=0)\n",
    "for i in no_img_list:\n",
    "    fc_matrix[i] = avg\n",
    "    \n",
    "print(fc_matrix.shape)"
   ]
  },
  {
   "cell_type": "code",
   "execution_count": 22,
   "metadata": {
    "collapsed": false
   },
   "outputs": [
    {
     "name": "stderr",
     "output_type": "stream",
     "text": [
      "/usr/local/lib/python3.4/dist-packages/keras/models.py:760: UserWarning: Network returning invalid probability values. The last layer might not normalize predictions into probabilities (like softmax or sigmoid would).\n",
      "  warnings.warn('Network returning invalid probability values. '\n"
     ]
    },
    {
     "name": "stdout",
     "output_type": "stream",
     "text": [
      "60 data with no images\n",
      "(4807, 4096)\n"
     ]
    }
   ],
   "source": [
    "start = 0\n",
    "no_img_list = []\n",
    "fc_matrix_test = np.zeros(shape=(4807, 4096))\n",
    "\n",
    "for i in test_df.index.values:\n",
    "    f = '../data/soma_test/' + str(i) + '.jpg'\n",
    "    f = cv2.imread(f)\n",
    "    if(f is None):\n",
    "        no_img_list.append(start)\n",
    "        start += 1\n",
    "        continue\n",
    "    \n",
    "    #resize image to fit input\n",
    "    im = cv2.resize(f, (224, 224)).astype(np.float32)\n",
    "    im[:,:,0] -= 103.939\n",
    "    im[:,:,1] -= 116.779\n",
    "    im[:,:,2] -= 123.68\n",
    "    im = im.transpose((2,0,1))\n",
    "    im = np.expand_dims(im, axis=0)\n",
    "    \n",
    "    #add to array\n",
    "    fc_matrix_test[start] = model.predict_proba(im, verbose=False)\n",
    "    \n",
    "    start += 1\n",
    "    \n",
    "print(str(len(no_img_list)) + \" data with no images\")\n",
    "\n",
    "# no_img_list인 index에 평균값을 넣어준다\n",
    "avg = np.average(fc_matrix_test, axis=0)\n",
    "for i in no_img_list:\n",
    "    fc_matrix_test[i] = avg\n",
    "    \n",
    "print(fc_matrix_test.shape)"
   ]
  },
  {
   "cell_type": "markdown",
   "metadata": {
    "collapsed": true
   },
   "source": [
    "#### 5.3 다차원의 output을 PCA를 이용해서 차원을 낮춰준다"
   ]
  },
  {
   "cell_type": "code",
   "execution_count": 23,
   "metadata": {
    "collapsed": false
   },
   "outputs": [
    {
     "data": {
      "text/plain": [
       "array([ 0.11074356,  0.03565198,  0.03357036,  0.0303502 ,  0.02765177,\n",
       "        0.02310617,  0.02129011,  0.01957662,  0.01790807,  0.01604824,\n",
       "        0.01493364,  0.01374364,  0.01280136,  0.01209088,  0.01141321,\n",
       "        0.01072512,  0.01019703,  0.01008452,  0.00968308,  0.00917386])"
      ]
     },
     "execution_count": 23,
     "metadata": {},
     "output_type": "execute_result"
    }
   ],
   "source": [
    "from sklearn.decomposition import PCA\n",
    "\n",
    "#parameter는 적당히 대입한 값으로, tuning 여지가 있다\n",
    "size = 20\n",
    "pca = PCA(n_components=size, whiten=True)\n",
    "pca.fit(fc_matrix)\n",
    "\n",
    "pca.explained_variance_ratio_"
   ]
  },
  {
   "cell_type": "code",
   "execution_count": 24,
   "metadata": {
    "collapsed": false
   },
   "outputs": [
    {
     "name": "stdout",
     "output_type": "stream",
     "text": [
      "(10000, 20) (4807, 20)\n"
     ]
    }
   ],
   "source": [
    "fc_matrix = pca.transform(fc_matrix)\n",
    "fc_matrix_test = pca.transform(fc_matrix_test)\n",
    "print(fc_matrix.shape, fc_matrix_test.shape)"
   ]
  },
  {
   "cell_type": "markdown",
   "metadata": {
    "collapsed": true
   },
   "source": [
    "#### 5.4 PCA로 transform한 data를 column으로 넣어준다"
   ]
  },
  {
   "cell_type": "code",
   "execution_count": 25,
   "metadata": {
    "collapsed": false
   },
   "outputs": [
    {
     "data": {
      "text/html": [
       "<div>\n",
       "<table border=\"1\" class=\"dataframe\">\n",
       "  <thead>\n",
       "    <tr style=\"text-align: right;\">\n",
       "      <th></th>\n",
       "      <th>cate1</th>\n",
       "      <th>cate2</th>\n",
       "      <th>cate3</th>\n",
       "      <th>name</th>\n",
       "      <th>name_korean_nouns</th>\n",
       "      <th>name_alnum</th>\n",
       "      <th>name_total</th>\n",
       "      <th>word2vec_0</th>\n",
       "      <th>word2vec_1</th>\n",
       "      <th>word2vec_2</th>\n",
       "      <th>...</th>\n",
       "      <th>img_10</th>\n",
       "      <th>img_11</th>\n",
       "      <th>img_12</th>\n",
       "      <th>img_13</th>\n",
       "      <th>img_14</th>\n",
       "      <th>img_15</th>\n",
       "      <th>img_16</th>\n",
       "      <th>img_17</th>\n",
       "      <th>img_18</th>\n",
       "      <th>img_19</th>\n",
       "    </tr>\n",
       "  </thead>\n",
       "  <tbody>\n",
       "    <tr>\n",
       "      <th>90985</th>\n",
       "      <td>디지털/가전</td>\n",
       "      <td>PC부품</td>\n",
       "      <td>CPU</td>\n",
       "      <td>인텔 인텔 코어i7-4세대 4770K (하스웰) (정품)</td>\n",
       "      <td>인텔 인텔인텔코어 코어 세대 세대4770 4770 하스 정품</td>\n",
       "      <td>인텔 인텔 코어i7 4세대 4770K  하스웰   정품</td>\n",
       "      <td>인텔 인텔 코어i7-4세대 4770K (하스웰) (정품) 인텔 인텔인텔코어 코어 세...</td>\n",
       "      <td>-2.525343</td>\n",
       "      <td>-1.517057</td>\n",
       "      <td>0.295140</td>\n",
       "      <td>...</td>\n",
       "      <td>-0.114512</td>\n",
       "      <td>-0.952700</td>\n",
       "      <td>0.792399</td>\n",
       "      <td>-0.816532</td>\n",
       "      <td>0.910876</td>\n",
       "      <td>0.747934</td>\n",
       "      <td>0.001202</td>\n",
       "      <td>0.066882</td>\n",
       "      <td>-0.587938</td>\n",
       "      <td>0.076081</td>\n",
       "    </tr>\n",
       "    <tr>\n",
       "      <th>90986</th>\n",
       "      <td>디지털/가전</td>\n",
       "      <td>PC부품</td>\n",
       "      <td>CPU</td>\n",
       "      <td>애플 맥북에어 13형 MacBook Air 13.3/1.6/4/256FLASH MJ...</td>\n",
       "      <td>애플 애플맥북 맥 북 13 13형 형 13.3 1.6 4 256 2 기존 기존가 1...</td>\n",
       "      <td>애플 맥북에어 13형 MacBook Air 13 3 1 6 4 256FLASH MJ...</td>\n",
       "      <td>애플 맥북에어 13형 MacBook Air 13.3/1.6/4/256FLASH MJ...</td>\n",
       "      <td>-1.079297</td>\n",
       "      <td>0.803934</td>\n",
       "      <td>-0.064331</td>\n",
       "      <td>...</td>\n",
       "      <td>-1.043417</td>\n",
       "      <td>1.010359</td>\n",
       "      <td>0.744351</td>\n",
       "      <td>-0.434429</td>\n",
       "      <td>-0.006103</td>\n",
       "      <td>0.006504</td>\n",
       "      <td>0.656783</td>\n",
       "      <td>1.111779</td>\n",
       "      <td>1.781562</td>\n",
       "      <td>1.276629</td>\n",
       "    </tr>\n",
       "  </tbody>\n",
       "</table>\n",
       "<p>2 rows × 47 columns</p>\n",
       "</div>"
      ],
      "text/plain": [
       "        cate1 cate2 cate3                                               name  \\\n",
       "90985  디지털/가전  PC부품   CPU                    인텔 인텔 코어i7-4세대 4770K (하스웰) (정품)   \n",
       "90986  디지털/가전  PC부품   CPU  애플 맥북에어 13형 MacBook Air 13.3/1.6/4/256FLASH MJ...   \n",
       "\n",
       "                                       name_korean_nouns  \\\n",
       "90985                  인텔 인텔인텔코어 코어 세대 세대4770 4770 하스 정품   \n",
       "90986  애플 애플맥북 맥 북 13 13형 형 13.3 1.6 4 256 2 기존 기존가 1...   \n",
       "\n",
       "                                              name_alnum  \\\n",
       "90985                    인텔 인텔 코어i7 4세대 4770K  하스웰   정품    \n",
       "90986  애플 맥북에어 13형 MacBook Air 13 3 1 6 4 256FLASH MJ...   \n",
       "\n",
       "                                              name_total  word2vec_0  \\\n",
       "90985  인텔 인텔 코어i7-4세대 4770K (하스웰) (정품) 인텔 인텔인텔코어 코어 세...   -2.525343   \n",
       "90986  애플 맥북에어 13형 MacBook Air 13.3/1.6/4/256FLASH MJ...   -1.079297   \n",
       "\n",
       "       word2vec_1  word2vec_2    ...       img_10    img_11    img_12  \\\n",
       "90985   -1.517057    0.295140    ...    -0.114512 -0.952700  0.792399   \n",
       "90986    0.803934   -0.064331    ...    -1.043417  1.010359  0.744351   \n",
       "\n",
       "         img_13    img_14    img_15    img_16    img_17    img_18    img_19  \n",
       "90985 -0.816532  0.910876  0.747934  0.001202  0.066882 -0.587938  0.076081  \n",
       "90986 -0.434429 -0.006103  0.006504  0.656783  1.111779  1.781562  1.276629  \n",
       "\n",
       "[2 rows x 47 columns]"
      ]
     },
     "execution_count": 25,
     "metadata": {},
     "output_type": "execute_result"
    }
   ],
   "source": [
    "columns = ['img_' + str(i) for i in range(0,size)]\n",
    "train_img_df = pd.DataFrame(fc_matrix, columns=columns, index=train_df.index)\n",
    "train_df = pd.concat([train_df, train_img_df], axis=1)\n",
    "\n",
    "test_img_df = pd.DataFrame(fc_matrix_test, columns=columns, index=test_df.index)\n",
    "test_df = pd.concat([test_df, test_img_df], axis=1)\n",
    "\n",
    "train_df.head(2)"
   ]
  },
  {
   "cell_type": "markdown",
   "metadata": {},
   "source": [
    "#### 현재까지 output을 파일로 저장한다"
   ]
  },
  {
   "cell_type": "code",
   "execution_count": 26,
   "metadata": {
    "collapsed": true
   },
   "outputs": [],
   "source": [
    "import pickle\n",
    "\n",
    "with open('../data/train_feat_eng.df', 'wb') as handle:\n",
    "  pickle.dump(train_df, handle)\n",
    "\n",
    "with open('../data/test_feat_eng.df', 'wb') as handle:\n",
    "  pickle.dump(test_df, handle)"
   ]
  },
  {
   "cell_type": "markdown",
   "metadata": {},
   "source": [
    "#### 6. Model에 넣을 수 있는 데이터로 바꾼다"
   ]
  },
  {
   "cell_type": "markdown",
   "metadata": {
    "collapsed": true
   },
   "source": [
    "#### 6.1 단어를 n-gram으로 조합을 만들어서 숫자의 형태로 저장하기 위해 TfidfVectorizer를 사용한다.\n",
    " * CountVectorizer 는 일반 text 를 이에 해당되는 숫자 id 와, 빈도수 형태의 데이터로 변환 해주는 역할을 해준다.\n",
    " * 이 역할을 하기 위해서 모든 단어들에 대해서 id 를 먼저 할당한다.\n",
    " * 그리고 나서, 학습 데이터에서 해당 단어들과, 그것의 빈도수로 데이터를 변환 해준다. (보통 이런 과정을 통해서 우리가 이해하는 형태를 컴퓨터가 이해할 수 있는 형태로 변환을 해준다고 보면 된다)\n",
    " * 예를 들어서 '베네통키즈 키즈 러블리 키즈' 라는 상품명이 있고, 각 단어의 id 가 , 베네통키즈 - 1, 키즈 - 2, 러블리 -3 이라고 한다면 이 상품명은 (1,1), (2,2), (3,1) 형태로 변환을 해준다. (첫번째 단어 id, 두번째 빈도수)\n",
    " * TfidfVectorizer는 CountVectorizer에 tf-idf로 한번 transform 해주는 model이다."
   ]
  },
  {
   "cell_type": "code",
   "execution_count": 28,
   "metadata": {
    "collapsed": false
   },
   "outputs": [
    {
     "name": "stdout",
     "output_type": "stream",
     "text": [
      "(10000, 553489)\n"
     ]
    }
   ],
   "source": [
    "from sklearn.feature_extraction.text import TfidfVectorizer\n",
    "\n",
    "vectorizer = TfidfVectorizer(analyzer='char_wb', ngram_range=(2, 6), strip_accents='unicode')\n",
    "x_list = vectorizer.fit_transform(train_df['name_total'].tolist())\n",
    "print(x_list.shape)"
   ]
  },
  {
   "cell_type": "markdown",
   "metadata": {},
   "source": [
    "#### 6.2 word2vec, img column을 x_list에 더한다"
   ]
  },
  {
   "cell_type": "code",
   "execution_count": 32,
   "metadata": {
    "collapsed": false
   },
   "outputs": [
    {
     "data": {
      "text/plain": [
       "(10000, 553529)"
      ]
     },
     "execution_count": 32,
     "metadata": {},
     "output_type": "execute_result"
    }
   ],
   "source": [
    "from scipy import sparse\n",
    "from scipy.sparse import hstack\n",
    "\n",
    "#add word2vec columns\n",
    "word_columns = ['word2vec_' + str(i) for i in range(0,20)]\n",
    "word_matrix = sparse.csr_matrix(train_df[word_columns].values)\n",
    "x_list = hstack([x_list, word_matrix])\n",
    "\n",
    "#add image columns\n",
    "img_columns = ['img_' + str(i) for i in range(0,20)]\n",
    "img_matrix = sparse.csr_matrix(train_df[img_columns].values)\n",
    "\n",
    "x_list = hstack([x_list, img_matrix])\n",
    "x_list.shape"
   ]
  },
  {
   "cell_type": "markdown",
   "metadata": {},
   "source": [
    "#### 6.3 3개의 카테고리를 제출 형태의 shape로 만든다"
   ]
  },
  {
   "cell_type": "code",
   "execution_count": 33,
   "metadata": {
    "collapsed": true
   },
   "outputs": [],
   "source": [
    "y_list = []\n",
    "for each in train_df.iterrows():\n",
    "    s = ';'.join([each[1]['cate1'], each[1]['cate2'], each[1]['cate3']])\n",
    "    y_list.append(s)"
   ]
  },
  {
   "cell_type": "markdown",
   "metadata": {},
   "source": [
    "## Train Model\n",
    " * 심플하게 Support Vector Machine을 사용한다."
   ]
  },
  {
   "cell_type": "code",
   "execution_count": 34,
   "metadata": {
    "collapsed": true
   },
   "outputs": [],
   "source": [
    "from sklearn.svm import LinearSVC\n",
    "from sklearn.grid_search import GridSearchCV\n",
    "from sklearn.cross_validation import cross_val_score"
   ]
  },
  {
   "cell_type": "markdown",
   "metadata": {},
   "source": [
    "#### 1. GridSearch로 제일 적합한 C값을 찾는다"
   ]
  },
  {
   "cell_type": "code",
   "execution_count": 38,
   "metadata": {
    "collapsed": false
   },
   "outputs": [
    {
     "name": "stdout",
     "output_type": "stream",
     "text": [
      "[  0.1          0.12195705   0.14873521   0.18139307   0.22122163\n",
      "   0.26979536   0.32903446   0.4012807    0.48939009   0.5968457\n",
      "   0.72789538   0.88771971   1.08263673   1.32035178   1.61026203\n",
      "   1.963828     2.39502662   2.92090372   3.56224789   4.3444123\n",
      "   5.29831691   6.46167079   7.88046282   9.61077966  11.72102298\n",
      "  14.29461338  17.43328822  21.26112334  25.92943797  31.6227766 ]\n"
     ]
    }
   ],
   "source": [
    "svc_param = {'C':np.logspace(-1, 1.5, 30)}\n",
    "print(svc_param['C'])"
   ]
  },
  {
   "cell_type": "code",
   "execution_count": null,
   "metadata": {
    "collapsed": false
   },
   "outputs": [
    {
     "name": "stdout",
     "output_type": "stream",
     "text": [
      "Fitting 4 folds for each of 30 candidates, totalling 120 fits\n"
     ]
    },
    {
     "name": "stderr",
     "output_type": "stream",
     "text": [
      "[Parallel(n_jobs=-1)]: Done  34 tasks      | elapsed: 47.3min\n"
     ]
    }
   ],
   "source": [
    "gs_svc = GridSearchCV(LinearSVC(),svc_param,cv=4,n_jobs=-1, verbose=1)\n",
    "gs_svc.fit(x_list, y_list)\n",
    "print(gs_svc.best_params_, gs_svc.best_score_)"
   ]
  },
  {
   "cell_type": "markdown",
   "metadata": {},
   "source": [
    "#### 2. Cross validation 점수를 확인한다"
   ]
  },
  {
   "cell_type": "code",
   "execution_count": null,
   "metadata": {
    "collapsed": true
   },
   "outputs": [],
   "source": [
    "svc_clf = LinearSVC(C=gs_svc.best_params_['C'])\n",
    "svc_score = cross_val_score(svc_clf, x_list, y_list, cv=5, n_jobs=-1).mean()\n",
    "print(\"LinearSVC = {0:.6f}\".format(svc_score))"
   ]
  },
  {
   "cell_type": "markdown",
   "metadata": {
    "collapsed": true
   },
   "source": [
    "#### 3. Predict test data"
   ]
  },
  {
   "cell_type": "markdown",
   "metadata": {},
   "source": [
    "#### 3.1 Get test_list"
   ]
  },
  {
   "cell_type": "code",
   "execution_count": null,
   "metadata": {
    "collapsed": true
   },
   "outputs": [],
   "source": [
    "test_list = vectorizer.transform(test_df['name_total'].tolist())\n",
    "\n",
    "#add word2vec columns\n",
    "word_matrix = sparse.csr_matrix(test_df[word_columns].values)\n",
    "test_list = hstack([test_list, word_matrix])\n",
    "\n",
    "#add image columns\n",
    "img_matrix = sparse.csr_matrix(test_df[img_columns].values)\n",
    "test_list = hstack([test_list, img_matrix])\n",
    "\n",
    "print(test_list.shape)"
   ]
  },
  {
   "cell_type": "markdown",
   "metadata": {},
   "source": [
    "#### 3.2 Get prediction and save to file"
   ]
  },
  {
   "cell_type": "code",
   "execution_count": null,
   "metadata": {
    "collapsed": true
   },
   "outputs": [],
   "source": [
    "svc_clf.fit(x_list, y_list)\n",
    "pred = svc_clf.predict(test_list)\n",
    "\n",
    "test_df['pred'] = pred\n",
    "pred_df = pd.Series(test_df.pred.values,index=test_df.name)\n",
    "pred_df.head(2)"
   ]
  },
  {
   "cell_type": "code",
   "execution_count": null,
   "metadata": {
    "collapsed": true
   },
   "outputs": [],
   "source": [
    "with open('../submission/pred.df', 'wb') as handle:\n",
    "  pickle.dump(pred_df, handle)"
   ]
  },
  {
   "cell_type": "markdown",
   "metadata": {},
   "source": [
    "## Setup server, and check final score\n",
    " * http://somaeval.hoot.co.kr:8880/eval?url=http://52.41.52.48:8887 (check only two categories)\n",
    " * http://somaeval.hoot.co.kr:8880/eval?url=http://52.41.52.48:8887&mode=all&name=임규리 (full test)\n",
    " * http://somaeval.hoot.co.kr:8869/score (leaderboard)"
   ]
  },
  {
   "cell_type": "code",
   "execution_count": null,
   "metadata": {
    "collapsed": true
   },
   "outputs": [],
   "source": [
    "d = pred_df.to_dict()\n",
    "\n",
    "%%capture\n",
    "from bottle import route, run, template,request,get, post\n",
    "import re\n",
    "import  time\n",
    "from threading import  Condition\n",
    "_CONDITION = Condition()\n",
    "@route('/classify')\n",
    "\n",
    "def classify():\n",
    "    img = request.query.img\n",
    "    name = request.query.name\n",
    "    pred = d[name]\n",
    "    \n",
    "    return {'cate':pred}\n",
    "\n",
    "run(host='0.0.0.0', port=8887)"
   ]
  }
 ],
 "metadata": {
  "kernelspec": {
   "display_name": "Python [Root]",
   "language": "python",
   "name": "Python [Root]"
  },
  "language_info": {
   "codemirror_mode": {
    "name": "ipython",
    "version": 3
   },
   "file_extension": ".py",
   "mimetype": "text/x-python",
   "name": "python",
   "nbconvert_exporter": "python",
   "pygments_lexer": "ipython3",
   "version": "3.5.2"
  },
  "widgets": {
   "state": {},
   "version": "1.1.2"
  }
 },
 "nbformat": 4,
 "nbformat_minor": 0
}
